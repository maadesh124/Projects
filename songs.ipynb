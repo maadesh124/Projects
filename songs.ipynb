{
  "nbformat": 4,
  "nbformat_minor": 0,
  "metadata": {
    "colab": {
      "provenance": []
    },
    "kernelspec": {
      "name": "python3",
      "display_name": "Python 3"
    },
    "language_info": {
      "name": "python"
    }
  },
  "cells": [
    {
      "cell_type": "code",
      "source": [
        "from bs4 import BeautifulSoup\n",
        "import requests\n",
        "import pandas as pd\n",
        "import matplotlib.pyplot as plt\n",
        "import numpy as np\n",
        "import time as t\n",
        "\n"
      ],
      "metadata": {
        "id": "GvplDbkrgEu7"
      },
      "execution_count": 164,
      "outputs": []
    },
    {
      "cell_type": "code",
      "source": [
        "\n",
        "def get_s(l,web):\n",
        "  for x in l:\n",
        "    u=x.get('href')\n",
        "    if web in u:\n",
        "      return u\n",
        "\n",
        "def get_link(song):\n",
        "    u='https://www.google.com/search?q='+song.replace(' ','+')+'song+download'\n",
        "    req=requests.get(u)\n",
        "    #t.sleep(20)\n",
        "    soup=BeautifulSoup(req.content,'html.parser')\n",
        "    #print(soup.prettify())\n",
        "    c=soup.find_all('a')\n",
        "    #print(c)\n",
        "    try:\n",
        "      try:\n",
        "        web='vedimuthu'\n",
        "        s=(get_s(c,web))\n",
        "        i1=s.index('https')\n",
        "        i2=s.index('song')+4\n",
        "        return s[i1:i2]\n",
        "      except:\n",
        "        #print('except')\n",
        "        web='tamilpaatu'\n",
        "        s=(get_s(c,web))\n",
        "        i1=s.index('https')\n",
        "        i2=s.index('song')+4\n",
        "        return s[i1:i2]\n",
        "    except:\n",
        "         a=0\n",
        "\n",
        "def downsong(url):\n",
        "       webpage = requests.get(url)\n",
        "       soup = BeautifulSoup(webpage.content, \"lxml\")\n",
        "       s=str(soup)\n",
        "       i1=s.find('downloader')\n",
        "       i2=s.find('\"',i1)\n",
        "       s1=url[0:url.index('.com')+5]\n",
        "       s2=s[i1:i2]\n",
        "       s2=s2.replace('128_cdn','320_cdn')\n",
        "       return (s1+s2)\n",
        "\n",
        "\n",
        "s='Adiyae Azhagae.mp3 Adiye.mp3 Ale Ale.mp3 Anbe En Anbe.mp3 Anbe Anbe.mp3 Andha Arabi Kadaloram.mp3 Annul Maelae.mp3 Arabu Naade.mp3 Arjunar Villu.mp3 Aval.mp3 Ayyayo Nenju.mp3 Azhagiya Theeye.mp3 Azahakana Ratsasiye.mp3 Bodhai Kaname.mp3 Boomi Enna Suthudhe.mp3 Ei Suzhali.mp3 En Aasai Mythiliye.mp3 En jannal vandha.mp3 Enadhuyirae.mp3 Endrendrum Punnagai.mp3 Engeyo Partha.mp3 Enna Indha Maatramo.mp3 Enna Solla Pogirai.mp3 Enna Vilai.mp3 Ennadi Maayavi Nee.mp3 Ennake Ennaka.mp3 Ennavale Adi Ennavale.mp3 High On Love.mp3 Hosanna.mp3 Idhazhin Oram.mp3 Idhu Varai.mp3 Inayae.mp3 Kaalaiyil Dhinamum.mp3 Kadhal Sadugudu.mp3 Kan Irrandil.mp3 Kan Peasum Varthaigal.mp3 Kanave Kanave.mp3 Kangal Irandal.mp3 Kannamma.mp3 Karka Karka.mp3 Katravai Patravai.mp3 Katraval Patravai.mp3 Kikku Yerudhey.mp3 Konjam II.mp3 Kudi Vaazhthu.mp3 Kurukku Siruthavale.mp3 Manjal Veiyil.mp3 Mannipaaya.mp3 Marana Mass.mp3 Mayiliragae.mp3 Mazhaiye Mazhaiye.mp3 Meyyana Inbam.mp3 Minsara Poove.mp3 Mun Paniyaa.mp3 Munbe Vaa En Anbe Vaa.mp3 Mundhinam.mp3 Muzhumathi.mp3 Naanum Rowdy Dhaan.mp3 Narumugaiye.mp3 Nathiyae Nathiyae.mp3 Nee Illai Enral.mp3 Nenjukkul Peidhidum.mp3 Nenjukulla Nee.mp3 Nijamellam Maranthupochu.mp3 Ninaithu Ninaithu Parthen.mp3 Omana Penne.mp3 Ora Kannala.mp3 Oru Kuchi Oru Kulfi.mp3 Otha Sollaala.mp3 Othaiyadi Pathayila.mp3 Othasada Rosa.mp3 Paarthen.mp3 Pachchai Nirame.mp3 Pala Palakura.mp3 Pandi Nattu Kodi.mp3 Patta Patti.mp3 Petta Paraak.mp3 Pistah.mp3 Pookal Pookum.mp3 Poongkaatrilae.mp3 Poovukkul.mp3 Porkkalam Tamil Rap.mp3 Rakita Rakita Rakita.mp3 Sandhosa Kanneere.mp3 Senjitaley.mp3 Siragugal.mp3 Sirikkadhey.mp3 Sotta Sotta.mp3 Thangame.mp3 Thaniye Thananthaniye.mp3 The_Life_Of_Ram.mp3 Theemai Dhaan Vellum.mp3 Padayappa Theme Music.mp3 Thirunelveli Alvada.mp3 Thirupachi Aruvale.mp3 Thuli Thuli.mp3 Un Paarvayil.mp3 Vaayadi Petha Pulla.mp3 Vaayamoodi Summa lru Da (Guitar_Version).mp3 Varava Varava.mp3 Venmathiye.mp3 Venmegam Pennaga.mp3 Verenna Verenna.mp3 Vizhigalil Vizhigalil.mp3 Yaar Intha Penthan.mp3 Yaaro Ivan.mp3 Yean Ennai Pirindhaai.mp3 Yedho Ondru Ennai.mp3 Yedho Ondru.mp3 Yennai Maatrum Kadhale.mp3 '\n",
        "slist=song_list(s)\n",
        "print(slist)\n",
        "for song in slist:\n",
        "   url=get_link(song)\n",
        "   #print(song)\n",
        "   #print(url)\n",
        "   try:\n",
        "     print(downsong(url))\n",
        "   except:\n",
        "     print(song,' not found in web')"
      ],
      "metadata": {
        "id": "JkVZIulfGABf"
      },
      "execution_count": null,
      "outputs": []
    },
    {
      "cell_type": "code",
      "source": [
        "def song_list(st):\n",
        "  l=st.split('.mp3')\n",
        "  l1=[]\n",
        "  for x in l:\n",
        "    x=x.strip()\n",
        "    x=x.replace('-',' ')\n",
        "    l1.append(x)\n",
        "  return l1[0:-1]\n",
        "s='Adiyae Azhagae.mp3 Adiye.mp3 Ale Ale.mp3 Anbe En Anbe.mp3 Anbe Anbe.mp3 Andha Arabi Kadaloram.mp3 Annul Maelae.mp3 Arabu Naade.mp3 Arjunar Villu.mp3 Aval.mp3 Ayyayo Nenju.mp3 Azhagiya Theeye.mp3 Azahakana Ratsasiye.mp3 Bodhai Kaname.mp3 Boomi Enna Suthudhe.mp3 Ei Suzhali.mp3 En Aasai Mythiliye.mp3 En jannal vandha.mp3 Enadhuyirae.mp3 Enakenna Yaarum Illaye.mp3 Endrendrum Punnagai.mp3 Engeyo Partha.mp3 Enna Indha Maatramo.mp3 Enna Solla Pogirai.mp3 Enna Vilai.mp3 Ennadi Maayavi Nee.mp3 Ennake Ennaka.mp3 Ennavale Adi Ennavale.mp3 High On Love.mp3 Hosanna.mp3 Idhazhin Oram.mp3 Idhu Varai.mp3 Inayae.mp3 Kaalaiyil Dhinamum.mp3 Kadhal Sadugudu.mp3 Kadhal Ennulle .mp3 Kadhalikum Pennin.mp3 Kan Irrandil.mp3 Kan Peasum Varthaigal.mp3 Kanave Kanave.mp3 Kangal Irandal.mp3 Kannamma.mp3 Karka Karka.mp3 Katravai Patravai.mp3 Katraval Patravai.mp3 Kikku Yerudhey.mp3 Konjam II.mp3 Kudi Vaazhthu.mp3 Kurukku Siruthavale.mp3 Manjal Veiyil.mp3 Mannipaaya.mp3 Marana Mass.mp3 Mayiliragae.mp3 Mazhaiye Mazhaiye.mp3 Meyyana Inbam.mp3 Minsara Poove.mp3 Mun Paniyaa.mp3 Munbe Vaa En Anbe Vaa.mp3 Mundhinam.mp3 Muzhumathi.mp3 Naanum Rowdy Dhaan.mp3 Narumugaiye.mp3 Nathiyae Nathiyae.mp3 Nee Illai Enral.mp3 Nenjukkul Peidhidum.mp3 Nenjukulla Nee.mp3 Nijamellam Maranthupochu.mp3 Ninaithu Ninaithu Parthen.mp3 Omana Penne.mp3 Ora Kannala.mp3 Oru Kuchi Oru Kulfi.mp3 Otha Sollaala.mp3 Othaiyadi Pathayila.mp3 Othasada Rosa.mp3 Paarthen.mp3 Pachchai Nirame.mp3 Pala Palakura.mp3 Pandi Nattu Kodi.mp3 Patta Patti.mp3 Petta Paraak.mp3 Pistah.mp3 Pookal Pookum.mp3 Poongkaatrilae.mp3 Poovukkul.mp3 Porkkalam Tamil Rap.mp3 Rakita Rakita Rakita.mp3 Sandhosa Kanneere.mp3 Senjitaley.mp3 Siragugal.mp3 Sirikkadhey.mp3 Sotta Sotta.mp3 Thangame.mp3 Thaniye Thananthaniye.mp3 The_Life_Of_Ram.mp3 Theemai Dhaan Vellum.mp3 Padayappa Theme Music.mp3 Thirunelveli Alvada.mp3 Thirupachi Aruvale.mp3 Thuli Thuli.mp3 Un Paarvayil.mp3 Vaayadi Petha Pulla.mp3 Vaayamoodi Summa lru Da (Guitar_Version).mp3 Varava Varava.mp3 Venmathiye.mp3 Venmegam Pennaga.mp3 Verenna Verenna.mp3 Vizhigalil Vizhigalil.mp3 Yaar Intha Penthan.mp3 Yaaro Ivan.mp3 Yean Ennai Pirindhaai.mp3 Yedho Ondru Ennai.mp3 Yedho Ondru.mp3 Yennai Maatrum Kadhale.mp3 '\n",
        "l2=song_list(s)\n",
        "s2=set(l2)\n",
        "print(len(l2),len(s2))\n",
        "print(l2)\n",
        "for x in l2 :\n",
        "  if(l2.count(x)>1):\n",
        "    print(x)"
      ],
      "metadata": {
        "id": "DcY6eoWBRbpf"
      },
      "execution_count": null,
      "outputs": []
    },
    {
      "cell_type": "code",
      "source": [
        "\n",
        "\n",
        "\n",
        "\n",
        "\n"
      ],
      "metadata": {
        "id": "evQh1k2cEJKr"
      },
      "execution_count": null,
      "outputs": []
    },
    {
      "cell_type": "code",
      "source": [],
      "metadata": {
        "id": "sYopJcHBEJIg"
      },
      "execution_count": null,
      "outputs": []
    },
    {
      "cell_type": "code",
      "source": [],
      "metadata": {
        "id": "dEltJP-YEJF6"
      },
      "execution_count": null,
      "outputs": []
    },
    {
      "cell_type": "code",
      "source": [],
      "metadata": {
        "id": "OMFN9nnfEJDN"
      },
      "execution_count": null,
      "outputs": []
    },
    {
      "cell_type": "code",
      "source": [],
      "metadata": {
        "id": "5ZSYQKLvEI_s"
      },
      "execution_count": null,
      "outputs": []
    },
    {
      "cell_type": "code",
      "source": [],
      "metadata": {
        "id": "ZHxBx5g9EI6z"
      },
      "execution_count": null,
      "outputs": []
    }
  ]
}